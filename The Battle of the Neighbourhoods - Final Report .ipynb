{
 "cells": [
  {
   "cell_type": "markdown",
   "metadata": {},
   "source": [
    "# The Battle of the Neighbourhoods"
   ]
  },
  {
   "cell_type": "markdown",
   "metadata": {},
   "source": [
    "## 1.Introduction "
   ]
  },
  {
   "cell_type": "markdown",
   "metadata": {},
   "source": [
    "Mobile devices have been widely adopted over the last two decades. They are powerful tools for understanding the aggregated behaviour of consumers. Understanding device location opens doors to a wide range of use cases that are unique in many different ways. The location data provided is used to create an accurate representation of your interests, and this can be used to bring more targeted and relevant ads to potential consumers or being able to find a location of interest. \n",
    "\n",
    "Foursquare is a technology company like Google places and Yelp that has built a massive dataset of accurate location data. It powers location data from Apple’s Maps, Uber, Snapchat, Twitter and others. Their API and location dataset are currently being used by thousands of developers. The Foursquare website also provides a platform for users to search and explore a specific type of venue or geographical location, identify trending spots around a specified location, exploration other Foursquare user profiles. Users are also able to leave comments and rank restaurants, cafés, mall, parks and others. \n",
    "\n",
    "In this study, we will apply Machine Learning techniques on location data obtained from Foursquare to solve the following problem: \n",
    "Suppose a user has recently gotten a job in New York City, USA and is required to move to the Big Apple as they currently live in Toronto, Canada. The user is looking to find an area to live that bares some similarity to where they currently live.\n",
    "We can therefore suggest similar neighbourhoods in New York that suit their preferences with the use of cluster analysis and Foursquare location data by comparing the two cities and determining how similar or dissimilar they are.\n"
   ]
  },
  {
   "cell_type": "markdown",
   "metadata": {},
   "source": [
    "## 2. Data"
   ]
  },
  {
   "cell_type": "markdown",
   "metadata": {},
   "source": [
    "For this study, the Foursquare API will be used to explore and gather information about neighbourhoods located in both New York City and Toronto. The data sourced about these cities will include postcodes, neighbourhoods and their respective borough names. The data required is sourced from the following:\n",
    "1.\tNew York City location data exists freely online,  provided from the given link: <em>https://geo.nyu.edu/catalog/nyu_2451_34572</em>\n",
    "2.\tToronto location data is sourced from the following Wikipedia page as the information is not as readily available: <em>https://en.wikipedia.org/wiki/List_of_postal_codes_of_Canada:_M</em>\n",
    "\n",
    "Moreover, we will merge the mentioned datasets with their respective latitude and longitude coordinates based on the neighbourhoods listed. We focus particularly on neighbourhoods in the Downtown Toronto borough and compare that to neighbourhoods solely in Manhattan, New York. A Foursquare API GET request is sent in order to acquire the surrounds venues that are within a 500m radius. The data is formatted using one hot encoding with the categories of each venue. Then, the venues are grouped by neighbourhoods computing the mean of each feature.\n",
    "\n",
    "We will determine the similarities based on the frequency of the categories found in the neighbourhoods. The similarities found will give the user an idea of which areas would suit their preference and further help the user decide whether to move in a particular neighbourhood in Manhattan or not.\n"
   ]
  },
  {
   "cell_type": "markdown",
   "metadata": {},
   "source": [
    "## 3. Methodology"
   ]
  },
  {
   "cell_type": "markdown",
   "metadata": {},
   "source": [
    "In order to answer our research question, it was pertinent that our data was pre-processed and cleaned in order to be usable in the analysis portion of the study."
   ]
  },
  {
   "cell_type": "markdown",
   "metadata": {},
   "source": [
    "#### 3.1\tData exploration"
   ]
  },
  {
   "cell_type": "markdown",
   "metadata": {},
   "source": [
    "In the exploration of our data, we extract the top 100 venues within each neighbourhood within a 500m radius. A Foursquare API GET request was sent in order to acquire the relevant information as requested in the query. Then, all the venues were grouped by neighbourhoods, while the mean of the frequency of occurrence of each category was computed. This resulted in a table of results such that any given venue was listed in each row, while each column represented the frequency of occurrence of that particular category. This method of one hot encoding is a method of feature selection. We able to further drill down our information to the top 10 venues for every neighbourhood and categorize from most popular to least popular."
   ]
  },
  {
   "cell_type": "markdown",
   "metadata": {},
   "source": [
    "#### 3.2\tCluster Analysis"
   ]
  },
  {
   "cell_type": "markdown",
   "metadata": {},
   "source": [
    "As previously mentioned, a popular technique referred to as cluster analysis was performed on the resultant data. Clustering is a type of unsupervised learning machine learning algorithm that finds patterns in data without a prediction task in mind (i.e. input data has no labelled responses). Data can be clustered based on the patterns and similarities found in the data. In this case, K-Means clustering was implemented due to its simplistic approach in determining the similarities between neighbourhoods."
   ]
  },
  {
   "cell_type": "markdown",
   "metadata": {},
   "source": [
    "##### 3.2.1\tK-Means clustering"
   ]
  },
  {
   "cell_type": "markdown",
   "metadata": {},
   "source": [
    "K-means clustering is a clustering algorithm that allows us to specify the number of cluster samples/ partitions a user requires for the data. The number of clusters, K, must be specified in advance. The algorithm then searches for K partitions in the data such that similar samples go into the same cluster by minimizing the internal dispersion within a cluster whilst dissimilar samples fall into different clusters with maximum variation between clusters. As it is our objective to identify similar neighbourhoods in Manhattan, New York City that are similar to those neighbourhoods in Downtown Toronto, Toronto that a user could move to, cluster analysis is the best method to solve our research question.\n",
    "\n",
    "The following figure is a graphical illustration of clustering. As can be seen, distinct groupings can be found in the data after the algorithm has been implemented.\n"
   ]
  },
  {
   "cell_type": "markdown",
   "metadata": {},
   "source": [
    "<img src = \"kmeans_clustering2.png\" style = \"width:600px; height:300px\"/>"
   ]
  },
  {
   "cell_type": "markdown",
   "metadata": {},
   "source": [
    "Since the number of clusters is specified prior to the algorithm running. The elbow method is used to evaluate the model to determine the appropriate number of clusters. The elbow method runs K-means clustering on the dataset for a range of values for k (say from 1-10) and then for each value of k computes an average score for all clusters. It is a line graph that shows an exponential decay as the value, K, increases. It is a comparison of the mean distance of data points to their cluster centroids for every K number of clusters."
   ]
  },
  {
   "cell_type": "markdown",
   "metadata": {},
   "source": [
    "## 4. Results"
   ]
  },
  {
   "cell_type": "markdown",
   "metadata": {},
   "source": [
    "Given below are the geographical plots of New York City and Toronto with the Manhattan and Downtown Toronto neighbourhoods superimposed respectively."
   ]
  },
  {
   "cell_type": "markdown",
   "metadata": {},
   "source": [
    "<img src = \"downtown_toronto_map.png\" style = \"width:900px; height:450px\"/>\n",
    "\n",
    "**Figure 1: Downtown Toronto Neighbourhoods Map**"
   ]
  },
  {
   "cell_type": "markdown",
   "metadata": {},
   "source": [
    "<img src = \"manhattan_map.png\" style = \"width:900px; height:450px\"/>\n",
    "\n",
    "**Figure 2: Manhattan Neighbourhoods Map**"
   ]
  },
  {
   "cell_type": "markdown",
   "metadata": {},
   "source": [
    "We then proceeded with the clustering algorithm. As previously mentioned, in order to determine the appropriate number of clusters we used the Elbow Method which plots a range of “K” cluster values against the distortion also know as the sum of squared distance. The range of “K” values start from 1 increasing until a value of 8. The figure is show below"
   ]
  },
  {
   "cell_type": "markdown",
   "metadata": {},
   "source": [
    "<img src = \"elbow_method_new.png\" style = \"width:600px; height:350px\"/>\n",
    "\n",
    "**Figure 3: Elbow Method for K Selection**"
   ]
  },
  {
   "cell_type": "markdown",
   "metadata": {},
   "source": [
    "The Elbow Method shown in the figure above shows an exponential decay of the distortions as the value of “K” increases. The results of the Elbow Method indicate that the best “K” is 2 as the distortion decays much slower after 2. Therefore, 2 cluster samples are the most appropriate for our model.\n",
    "The final data set includes each neighbourhood and their respective cluster labels and their top 10 venues in descending order from most common to least common of 10.\n"
   ]
  },
  {
   "cell_type": "markdown",
   "metadata": {},
   "source": [
    "In order to further discern the best \"K\" number of clusters, the sihloutte score was also computed. The silhoutte score can also be used to find the optimal number of clusters. The silhouette coefficient of data measures how well data are assigned to its own cluster and how far they are from other clusters."
   ]
  },
  {
   "cell_type": "markdown",
   "metadata": {},
   "source": [
    "<img src = \"sihlouette_score_plot_1.png\" style = \"width:600px; height:300px\"/>\n",
    "\n",
    "**Figure 4: Sihlouette Score for K Selection**"
   ]
  },
  {
   "cell_type": "markdown",
   "metadata": {},
   "source": [
    "<img src = \"sihlouette_score_plot_2.png\" style = \"width:600px; height:300px\"/>\n",
    "\n",
    "**Figure 5: Sihlouette Score for K Selection**"
   ]
  },
  {
   "cell_type": "markdown",
   "metadata": {},
   "source": [
    "A sihlouette coefficient value close to 1 indicates that the data is well clustered. In the other words, the data objects in a cluster are similar to the other data objects in its group. A sihloeutte coefficient score close to -1 indicates that the object is poorly clustered, and that assignment to some other clusters would probably improve the overall results. For range of \"K\" cluster sample values, the maximum sihlouette coefficient score was found to be 0.6544043137589286 for a K = 2. This sihlouette coefficient score is closer to 1 which indicates that the best number of cluster samples for the data would be 2. This can be seen in the plots above."
   ]
  },
  {
   "cell_type": "markdown",
   "metadata": {},
   "source": [
    "We visualization the maps of both New York City and Toronto superimposed with the clusters of Manhattan and Downtown Toronto neighbourhoods. Each color represents the cluster for which that neighborhood belongs. The figures are given below."
   ]
  },
  {
   "cell_type": "markdown",
   "metadata": {},
   "source": [
    "![alt text](downtown_toronto_map_clusters_new.png) \n",
    "**Figure 6: Downtown Toronto Clusters Map**"
   ]
  },
  {
   "cell_type": "markdown",
   "metadata": {},
   "source": [
    "![alt text](manhattan_map_clusters_new.png) \n",
    "**Figure 7: Manhattan Clusters Map**"
   ]
  },
  {
   "cell_type": "markdown",
   "metadata": {},
   "source": [
    "As can be seen from the figures above that all Downtown Toronto neighbourhoods resemble those neighbourhoods in Manhattan. For example we found that if a user currently lives in any neighbourhood in Downtown Toronto, and wants to relocate to almost any Manhattan neighbourhood. However, if a user lives in Manhattan Valley, Manhattan, there are no neighbourhoods in Dowtown Toronto that are similar to those of Manhattan Valley. \n",
    "The best \"K\" number of clusters was also determined to be small for the given data set which also implies a similarity in the neighbourhoods."
   ]
  },
  {
   "cell_type": "markdown",
   "metadata": {},
   "source": [
    "## 5. Discussion"
   ]
  },
  {
   "cell_type": "markdown",
   "metadata": {},
   "source": [
    "It is quite evident from the results that clustering algorithm does not segment the neighbourhoods for location areas very well. It may seem as though there is correlation between the geolocation neighbourhoods in both Downtown Toronto and Manhattan as neighbourhoods within Manhattan bare a lot of similarity to neighbourhoods within Downtown Toronto. As previously mentioned there was one cluster that only consisted of one neighbourhood which may indicate its dissimillarity with other neighbourhoods. Upon further research it was found that the top 10 high end neighbourhoods in Manhattan are Soho, Tribeca, Flatiron District, Midtown Mahattan, Hudson Square, West Village, Garment Village, Central Park South, East Village and Chelsea as reported by Investopedia. These top 10 high end neighbourhoods are in the same cluster as some lower end neighbourhoods such as Cental and East Harlem. This would indicate some unreliability in the model as these Manhattan neighbourhoods do not resemble each other which would then also mean there is dissimilarity to those neighbourhoods in Downtown Toronto would not be properly grouped together. This further indicates that the data is not segmented well as there are no distinct groupings and there is a need for more clusters and a revision of the model is necessary.\n",
    "\n",
    "This also affects an individuals options in terms of where they can move to as the information is not very clear. There was also an issue with the amount of data available. There is a limited amount of data we can request using the Foursquare API. Consequently, it will has a greater cost than the Lite version."
   ]
  },
  {
   "cell_type": "markdown",
   "metadata": {},
   "source": [
    "## 6. Conclusion"
   ]
  },
  {
   "cell_type": "markdown",
   "metadata": {},
   "source": [
    "In this project segmentation was performed on neighbourhoods between two different areas of two different countries to discern if an individual were to come from a neighbourhood in Downtown, Toronto and planned to move to Manhattan, which neighbourhoods would best resemble where they currently reside. The data used to answer our research question consisted of location information of venues around the neighbourhoods which was obtained using the Foursquare API. One Hot Encoding is used for converting the categories of the venues into a feature matrix. Subsequently, all venues are grouped by neighbourhoods while the mean is calculated. The resultant features used are the top 10 venues in descending order from most common to least common of 10 of frequency of occurrence from each category in a neighbourhood.\n",
    "In order to find similiraties and dissimilarities between all the neighbourhoods listed in the feature matrix, a machine learning algorithm known as K-Means clustering was used to group and segment the data. The elbow method and the sihlouette score method were both used for determining the most favourable number of clusters. The most optimal \"K\" number of clusters was determined as 2. The results showed that there is one group that contains only one neighbourhood that is isolated from others in its own cluster whilst all other neighbourhoods were grouped into the other cluster. This further indicated that the data did not segment well as there are no distinct groupings and there is a need for more clusters and a revision of the model is necessary.\n",
    "\n",
    "As a result, our research question could not be fully answered as to whether a user who intends to move from Toronto to Manhattan could not be fully explained as the current model suggests that a user who lives anywhere in Downtown Toronto could move to any neighbourhood in Manhattan which is not neccessarily true."
   ]
  },
  {
   "cell_type": "code",
   "execution_count": null,
   "metadata": {},
   "outputs": [],
   "source": []
  }
 ],
 "metadata": {
  "kernelspec": {
   "display_name": "Python 3",
   "language": "python",
   "name": "python3"
  },
  "language_info": {
   "codemirror_mode": {
    "name": "ipython",
    "version": 3
   },
   "file_extension": ".py",
   "mimetype": "text/x-python",
   "name": "python",
   "nbconvert_exporter": "python",
   "pygments_lexer": "ipython3",
   "version": "3.7.3"
  }
 },
 "nbformat": 4,
 "nbformat_minor": 2
}
